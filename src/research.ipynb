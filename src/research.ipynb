{
 "cells": [
  {
   "cell_type": "code",
   "execution_count": 1,
   "id": "809a3660",
   "metadata": {},
   "outputs": [],
   "source": [
    "import pandas as pd"
   ]
  },
  {
   "cell_type": "code",
   "execution_count": 2,
   "id": "c757c848",
   "metadata": {},
   "outputs": [
    {
     "name": "stdout",
     "output_type": "stream",
     "text": [
      "['dhanuka_hemanga', 'hansith_perera', 'prarthana_sewmini', 'ravindu_pramod', 'sakun_kaumal', 'veruni_rameesha', 'vidumini_andradi']\n"
     ]
    }
   ],
   "source": [
    "df = pd.read_pickle(\"../known_faces.pkl\")\n",
    "print(df[\"Name\"].tolist())"
   ]
  },
  {
   "cell_type": "code",
   "execution_count": 4,
   "id": "af40e222",
   "metadata": {},
   "outputs": [
    {
     "name": "stdout",
     "output_type": "stream",
     "text": [
      "['dhanuka_hemanga', 'hansith_perera', 'prarthana_sewmini', 'ravindu_pramod', 'sakun_kaumal', 'veruni_rameesha', 'vidumini_andradi']\n",
      "128\n"
     ]
    }
   ],
   "source": [
    "import pandas as pd\n",
    "\n",
    "df = pd.read_pickle(\"../known_faces.pkl\")\n",
    "print(df[\"Name\"].tolist())  # Should include 'prarthana_sewmini'\n",
    "print(len(df[df[\"Name\"] == \"prarthana_sewmini\"][\"Embedding\"].values[0]))  # Should print 128\n"
   ]
  },
  {
   "cell_type": "code",
   "execution_count": 8,
   "id": "a7195adc",
   "metadata": {},
   "outputs": [
    {
     "data": {
      "text/plain": [
       "False"
      ]
     },
     "execution_count": 8,
     "metadata": {},
     "output_type": "execute_result"
    }
   ],
   "source": [
    "import cv2\n",
    "import numpy as np\n",
    "#define frame\n",
    "frame = np.zeros((100, 100, 3), dtype=np.uint8)\n",
    "#draw a white circle in the center of the frame\n",
    "cv2.circle(frame, (50, 50), 30, (255, 255, 255), -1)\n",
    "#save the frame to a file\n",
    "cv2.imwrite(\"processed_dataset/prarthana_sewmini/live1.jpg\", frame)"
   ]
  },
  {
   "cell_type": "code",
   "execution_count": null,
   "id": "abf9c985",
   "metadata": {},
   "outputs": [],
   "source": []
  }
 ],
 "metadata": {
  "kernelspec": {
   "display_name": "face_env",
   "language": "python",
   "name": "python3"
  },
  "language_info": {
   "codemirror_mode": {
    "name": "ipython",
    "version": 3
   },
   "file_extension": ".py",
   "mimetype": "text/x-python",
   "name": "python",
   "nbconvert_exporter": "python",
   "pygments_lexer": "ipython3",
   "version": "3.10.9"
  }
 },
 "nbformat": 4,
 "nbformat_minor": 5
}
